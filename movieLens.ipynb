{
 "cells": [
  {
   "cell_type": "code",
   "execution_count": 1,
   "id": "3399f818-8845-475b-afc1-adf899c891ee",
   "metadata": {},
   "outputs": [],
   "source": [
    "from pyspark.sql import SparkSession"
   ]
  },
  {
   "cell_type": "code",
   "execution_count": 5,
   "id": "ad407eb3-a4f4-486e-aa9c-dfd8fdcb53cd",
   "metadata": {},
   "outputs": [],
   "source": [
    "import os\n",
    "import urllib.request\n",
    "import zipfile"
   ]
  },
  {
   "cell_type": "code",
   "execution_count": 2,
   "id": "0982250c-40eb-4f67-9fb3-ef0eacf9f2ee",
   "metadata": {},
   "outputs": [
    {
     "name": "stderr",
     "output_type": "stream",
     "text": [
      "Setting default log level to \"WARN\".\n",
      "To adjust logging level use sc.setLogLevel(newLevel). For SparkR, use setLogLevel(newLevel).\n",
      "24/11/13 14:00:52 WARN NativeCodeLoader: Unable to load native-hadoop library for your platform... using builtin-java classes where applicable\n"
     ]
    }
   ],
   "source": [
    "spark = SparkSession.builder.appName(\"MovieLensAnalysis\").getOrCreate()"
   ]
  },
  {
   "cell_type": "code",
   "execution_count": 3,
   "id": "503778dc-a914-407a-95cb-99e788af80ff",
   "metadata": {},
   "outputs": [],
   "source": [
    "dataset_url = \"https://files.grouplens.org/datasets/movielens/ml-latest-small.zip\"\n",
    "zip_path = \"/tmp/ml-latest-small.zip\"\n",
    "extract_path = \"/tmp/ml-latest-small/\""
   ]
  },
  {
   "cell_type": "code",
   "execution_count": 6,
   "id": "19b91559-1b1b-4ad9-8a0d-39d0a9395715",
   "metadata": {},
   "outputs": [
    {
     "name": "stdout",
     "output_type": "stream",
     "text": [
      "Downloading MovieLens dataset...\n",
      "Download complete!\n",
      "Extracting dataset...\n",
      "Extraction complete!\n"
     ]
    }
   ],
   "source": [
    "# Step 1: Download the dataset\n",
    "if not os.path.exists(zip_path):\n",
    "    print(\"Downloading MovieLens dataset...\")\n",
    "    urllib.request.urlretrieve(dataset_url, zip_path)\n",
    "    print(\"Download complete!\")\n",
    "\n",
    "# Step 2: Extract the ZIP file\n",
    "if not os.path.exists(extract_path):\n",
    "    print(\"Extracting dataset...\")\n",
    "    with zipfile.ZipFile(zip_path, 'r') as zip_ref:\n",
    "        zip_ref.extractall(\"/tmp/\")\n",
    "    print(\"Extraction complete!\")"
   ]
  },
  {
   "cell_type": "code",
   "execution_count": 8,
   "id": "e5a86ec8-2e96-47e3-863b-02c25146edb8",
   "metadata": {},
   "outputs": [],
   "source": [
    "movies_path = os.path.join(extract_path, \"movies.csv\")\n",
    "ratings_path = os.path.join(extract_path, \"ratings.csv\")\n",
    "tags_path = os.path.join(extract_path, \"tags.csv\")\n",
    "links_path = os.path.join(extract_path, \"links.csv\")"
   ]
  },
  {
   "cell_type": "code",
   "execution_count": 9,
   "id": "4f570de1-0e75-453e-aeaa-0fe53c69a146",
   "metadata": {},
   "outputs": [
    {
     "name": "stderr",
     "output_type": "stream",
     "text": [
      "                                                                                \r"
     ]
    }
   ],
   "source": [
    "movies_df = spark.read.csv(f\"file://{movies_path}\", header=True, inferSchema=True)\n",
    "ratings_df = spark.read.csv(f\"file://{ratings_path}\", header=True, inferSchema=True)\n",
    "tags_df = spark.read.csv(f\"file://{tags_path}\", header=True, inferSchema=True)\n",
    "links_df = spark.read.csv(f\"file://{links_path}\", header=True, inferSchema=True)\n"
   ]
  },
  {
   "cell_type": "code",
   "execution_count": 10,
   "id": "56284940-cf48-49d4-958b-6b301e900b02",
   "metadata": {},
   "outputs": [
    {
     "name": "stdout",
     "output_type": "stream",
     "text": [
      "Movies DataFrame:\n",
      "root\n",
      " |-- movieId: integer (nullable = true)\n",
      " |-- title: string (nullable = true)\n",
      " |-- genres: string (nullable = true)\n",
      "\n",
      "+-------+--------------------+--------------------+\n",
      "|movieId|               title|              genres|\n",
      "+-------+--------------------+--------------------+\n",
      "|      1|    Toy Story (1995)|Adventure|Animati...|\n",
      "|      2|      Jumanji (1995)|Adventure|Childre...|\n",
      "|      3|Grumpier Old Men ...|      Comedy|Romance|\n",
      "|      4|Waiting to Exhale...|Comedy|Drama|Romance|\n",
      "|      5|Father of the Bri...|              Comedy|\n",
      "+-------+--------------------+--------------------+\n",
      "only showing top 5 rows\n",
      "\n",
      "Ratings DataFrame:\n",
      "root\n",
      " |-- userId: integer (nullable = true)\n",
      " |-- movieId: integer (nullable = true)\n",
      " |-- rating: double (nullable = true)\n",
      " |-- timestamp: integer (nullable = true)\n",
      "\n",
      "+------+-------+------+---------+\n",
      "|userId|movieId|rating|timestamp|\n",
      "+------+-------+------+---------+\n",
      "|     1|      1|   4.0|964982703|\n",
      "|     1|      3|   4.0|964981247|\n",
      "|     1|      6|   4.0|964982224|\n",
      "|     1|     47|   5.0|964983815|\n",
      "|     1|     50|   5.0|964982931|\n",
      "+------+-------+------+---------+\n",
      "only showing top 5 rows\n",
      "\n",
      "Tags DataFrame:\n",
      "root\n",
      " |-- userId: integer (nullable = true)\n",
      " |-- movieId: integer (nullable = true)\n",
      " |-- tag: string (nullable = true)\n",
      " |-- timestamp: integer (nullable = true)\n",
      "\n",
      "+------+-------+---------------+----------+\n",
      "|userId|movieId|            tag| timestamp|\n",
      "+------+-------+---------------+----------+\n",
      "|     2|  60756|          funny|1445714994|\n",
      "|     2|  60756|Highly quotable|1445714996|\n",
      "|     2|  60756|   will ferrell|1445714992|\n",
      "|     2|  89774|   Boxing story|1445715207|\n",
      "|     2|  89774|            MMA|1445715200|\n",
      "+------+-------+---------------+----------+\n",
      "only showing top 5 rows\n",
      "\n",
      "Links DataFrame:\n",
      "root\n",
      " |-- movieId: integer (nullable = true)\n",
      " |-- imdbId: integer (nullable = true)\n",
      " |-- tmdbId: integer (nullable = true)\n",
      "\n",
      "+-------+------+------+\n",
      "|movieId|imdbId|tmdbId|\n",
      "+-------+------+------+\n",
      "|      1|114709|   862|\n",
      "|      2|113497|  8844|\n",
      "|      3|113228| 15602|\n",
      "|      4|114885| 31357|\n",
      "|      5|113041| 11862|\n",
      "+-------+------+------+\n",
      "only showing top 5 rows\n",
      "\n",
      "Movies count: 9742\n",
      "Ratings count: 100836\n",
      "Tags count: 3683\n",
      "Links count: 9742\n"
     ]
    },
    {
     "name": "stderr",
     "output_type": "stream",
     "text": [
      "24/11/13 14:03:29 WARN SparkStringUtils: Truncated the string representation of a plan since it was too large. This behavior can be adjusted by setting 'spark.sql.debug.maxToStringFields'.\n",
      "[Stage 24:>                                                         (0 + 1) / 1]\r"
     ]
    },
    {
     "name": "stdout",
     "output_type": "stream",
     "text": [
      "+-------+------------------+----------------+------------------+--------------------+\n",
      "|summary|            userId|         movieId|            rating|           timestamp|\n",
      "+-------+------------------+----------------+------------------+--------------------+\n",
      "|  count|            100836|          100836|            100836|              100836|\n",
      "|   mean|326.12756356856676|19435.2957177992| 3.501556983616962|1.2059460873684695E9|\n",
      "| stddev| 182.6184914635004|35530.9871987003|1.0425292390606342|2.1626103599513078E8|\n",
      "|    min|                 1|               1|               0.5|           828124615|\n",
      "|    max|               610|          193609|               5.0|          1537799250|\n",
      "+-------+------------------+----------------+------------------+--------------------+\n",
      "\n"
     ]
    },
    {
     "name": "stderr",
     "output_type": "stream",
     "text": [
      "                                                                                \r"
     ]
    }
   ],
   "source": [
    "print(\"Movies DataFrame:\")\n",
    "movies_df.printSchema()\n",
    "movies_df.show(5)\n",
    "\n",
    "print(\"Ratings DataFrame:\")\n",
    "ratings_df.printSchema()\n",
    "ratings_df.show(5)\n",
    "\n",
    "print(\"Tags DataFrame:\")\n",
    "tags_df.printSchema()\n",
    "tags_df.show(5)\n",
    "\n",
    "print(\"Links DataFrame:\")\n",
    "links_df.printSchema()\n",
    "links_df.show(5)\n",
    "\n",
    "# Step 6: Display basic statistics\n",
    "print(\"Movies count:\", movies_df.count())\n",
    "print(\"Ratings count:\", ratings_df.count())\n",
    "print(\"Tags count:\", tags_df.count())\n",
    "print(\"Links count:\", links_df.count())\n",
    "\n",
    "# Describe the ratings DataFrame\n",
    "ratings_df.describe().show()"
   ]
  },
  {
   "cell_type": "code",
   "execution_count": 13,
   "id": "e45e06ff-c74c-4cae-a37e-e4ce4c10ccf5",
   "metadata": {},
   "outputs": [],
   "source": [
    "# movies_df.createOrReplaceTempView(\"movies_df\")\n",
    "\n",
    "# spark.sql(\"SELECT * FROM movies_df LIMIT 5\").show()"
   ]
  },
  {
   "cell_type": "code",
   "execution_count": 14,
   "id": "a8f5c049-caeb-4c38-8f19-a63dfcf3a86d",
   "metadata": {},
   "outputs": [
    {
     "name": "stderr",
     "output_type": "stream",
     "text": [
      "                                                                                \r"
     ]
    },
    {
     "data": {
      "image/png": "[encoded data removed]",
      "text/plain": [
       "<Figure size 1000x600 with 1 Axes>"
      ]
     },
     "metadata": {},
     "output_type": "display_data"
    }
   ],
   "source": [
    "import matplotlib.pyplot as plt\n",
    "import pandas as pd\n",
    "\n",
    "# Register the DataFrames as temporary views\n",
    "movies_df.createOrReplaceTempView(\"movies_df\")\n",
    "ratings_df.createOrReplaceTempView(\"ratings_df\")\n",
    "\n",
    "# 1. Top 10 Most Rated Movies\n",
    "top_rated_movies = spark.sql(\"\"\"\n",
    "    SELECT movies_df.title, COUNT(ratings_df.rating) as rating_count\n",
    "    FROM ratings_df\n",
    "    JOIN movies_df ON ratings_df.movieId = movies_df.movieId\n",
    "    GROUP BY movies_df.title\n",
    "    ORDER BY rating_count DESC\n",
    "    LIMIT 10\n",
    "\"\"\")\n",
    "\n",
    "# Convert to Pandas for plotting\n",
    "top_rated_movies_pd = top_rated_movies.toPandas()\n",
    "\n",
    "# Plotting Top 10 Most Rated Movies\n",
    "plt.figure(figsize=(10, 6))\n",
    "plt.barh(top_rated_movies_pd['title'], top_rated_movies_pd['rating_count'], color='skyblue')\n",
    "plt.xlabel(\"Number of Ratings\")\n",
    "plt.title(\"Top 10 Most Rated Movies\")\n",
    "plt.gca().invert_yaxis()\n",
    "plt.show()"
   ]
  },
  {
   "cell_type": "code",
   "execution_count": 16,
   "id": "fe746926-ff06-4657-bd56-42f239e0f807",
   "metadata": {},
   "outputs": [
    {
     "data": {
      "text/plain": [
       "DataFrame[movieId: int, title: string, genres: array<string>]"
      ]
     },
     "metadata": {},
     "output_type": "display_data"
    }
   ],
   "source": [
    "from pyspark.sql.types import *\n",
    "from pyspark.sql.functions import col, mean, udf, lit, current_timestamp, unix_timestamp, array_contains\n",
    "extract_genres = udf(lambda x: x.split(\"|\"), ArrayType(StringType()))\n",
    "movies_df_clean = movies_df.select(\"movieId\", \"title\", extract_genres(\"genres\").alias(\"genres\"))\n",
    "#display(movies_df_clean)\n",
    "\n",
    "movies_df_clean.createOrReplaceTempView(\"movies_df_clean\")\n",
    "\n",
    "display (spark.sql(\"SELECT * FROM movies_df_clean limit 5\"))"
   ]
  },
  {
   "cell_type": "code",
   "execution_count": 17,
   "id": "79c14745-6b34-4efa-8048-b631d5cbfdb9",
   "metadata": {},
   "outputs": [
    {
     "name": "stderr",
     "output_type": "stream",
     "text": [
      "                                                                                \r"
     ]
    },
    {
     "data": {
      "text/plain": [
       "['Action',\n",
       " 'Sci-Fi',\n",
       " 'IMAX',\n",
       " 'Children',\n",
       " 'Mystery',\n",
       " 'Romance',\n",
       " 'Thriller',\n",
       " 'Animation',\n",
       " '(no genres listed)',\n",
       " 'Fantasy',\n",
       " 'Crime',\n",
       " 'Drama',\n",
       " 'Horror',\n",
       " 'Film-Noir',\n",
       " 'War',\n",
       " 'Musical',\n",
       " 'Adventure',\n",
       " 'Western',\n",
       " 'Comedy',\n",
       " 'Documentary']"
      ]
     },
     "execution_count": 17,
     "metadata": {},
     "output_type": "execute_result"
    }
   ],
   "source": [
    "genres_result = list(set(movies_df_clean.select('genres').rdd.flatMap(tuple).flatMap(tuple).collect()))\n",
    "genres_result"
   ]
  },
  {
   "cell_type": "code",
   "execution_count": 19,
   "id": "79e8fb6c-1dee-4098-adca-20edca071149",
   "metadata": {},
   "outputs": [
    {
     "name": "stdout",
     "output_type": "stream",
     "text": [
      "+------+-------+------+---------+\n",
      "|userId|movieId|rating|timestamp|\n",
      "+------+-------+------+---------+\n",
      "|     1|      1|   4.0|964982703|\n",
      "|     1|      3|   4.0|964981247|\n",
      "|     1|      6|   4.0|964982224|\n",
      "|     1|     47|   5.0|964983815|\n",
      "|     1|     50|   5.0|964982931|\n",
      "+------+-------+------+---------+\n",
      "\n"
     ]
    }
   ],
   "source": [
    "ratings_df.createOrReplaceTempView(\"ratings_df\")\n",
    "spark.sql(\"SELECT * FROM ratings_df limit 5\").show()"
   ]
  },
  {
   "cell_type": "code",
   "execution_count": 20,
   "id": "486c58d6-cf4f-4c75-b7c8-4ca73fb9e226",
   "metadata": {},
   "outputs": [],
   "source": [
    "movie_ratings=ratings_df.drop('timestamp')"
   ]
  },
  {
   "cell_type": "code",
   "execution_count": 21,
   "id": "e1b7da98-2af3-4a49-ac00-759f62e9eccd",
   "metadata": {},
   "outputs": [],
   "source": [
    "from pyspark.sql.types import IntegerType, FloatType\n",
    "movie_ratings = movie_ratings.withColumn(\"userId\", movie_ratings[\"userId\"].cast(IntegerType()))\n",
    "movie_ratings = movie_ratings.withColumn(\"movieId\", movie_ratings[\"movieId\"].cast(IntegerType()))\n",
    "movie_ratings = movie_ratings.withColumn(\"rating\", movie_ratings[\"rating\"].cast(FloatType()))"
   ]
  },
  {
   "cell_type": "code",
   "execution_count": 22,
   "id": "e1e95d5e-5a93-4f3d-a35d-32e68873c4f0",
   "metadata": {},
   "outputs": [
    {
     "name": "stdout",
     "output_type": "stream",
     "text": [
      "+------+-------+------+\n",
      "|userId|movieId|rating|\n",
      "+------+-------+------+\n",
      "|     1|      1|   4.0|\n",
      "|     1|      3|   4.0|\n",
      "|     1|      6|   4.0|\n",
      "|     1|     47|   5.0|\n",
      "|     1|     50|   5.0|\n",
      "|     1|     70|   3.0|\n",
      "|     1|    101|   5.0|\n",
      "|     1|    110|   4.0|\n",
      "|     1|    151|   5.0|\n",
      "|     1|    157|   5.0|\n",
      "+------+-------+------+\n",
      "\n"
     ]
    }
   ],
   "source": [
    "movie_ratings.createOrReplaceTempView(\"movie_ratings\")\n",
    "spark.sql(\"SELECT * FROM movie_ratings limit 10\").show()"
   ]
  },
  {
   "cell_type": "code",
   "execution_count": 23,
   "id": "4d5fa2de-f437-4a09-b5d7-36c7563df4ce",
   "metadata": {},
   "outputs": [],
   "source": [
    "from pyspark.ml.evaluation import RegressionEvaluator\n",
    "from pyspark.ml.recommendation import ALS\n",
    "from pyspark.ml.tuning import CrossValidator,ParamGridBuilder"
   ]
  },
  {
   "cell_type": "code",
   "execution_count": 24,
   "id": "416498f5-dcef-4034-9e27-0a79a28c63d3",
   "metadata": {},
   "outputs": [],
   "source": [
    "#Create test and train set\n",
    "(training,test)=movie_ratings.randomSplit([0.8,0.2])"
   ]
  },
  {
   "cell_type": "code",
   "execution_count": 25,
   "id": "f262c642-52d0-4f77-9404-70da64b8bfdd",
   "metadata": {},
   "outputs": [],
   "source": [
    "# Create ALS model\n",
    "# Build the recommendation model using ALS on the training data\n",
    "# Note we set cold start strategy to 'drop' to ensure we don't get NaN evaluation metrics\n",
    "als = ALS(maxIter=5, rank=10, regParam=0.01, userCol=\"userId\", itemCol=\"movieId\", ratingCol=\"rating\",\n",
    "          coldStartStrategy=\"drop\")"
   ]
  },
  {
   "cell_type": "code",
   "execution_count": 26,
   "id": "a8f8929c-fd94-439d-ad15-e48c0d3c141f",
   "metadata": {},
   "outputs": [
    {
     "name": "stdout",
     "output_type": "stream",
     "text": [
      "alpha: alpha for implicit preference (default: 1.0)\n",
      "blockSize: block size for stacking input data in matrices. Data is stacked within partitions. If block size is more than remaining data in a partition then it is adjusted to the size of this data. (default: 4096)\n",
      "checkpointInterval: set checkpoint interval (>= 1) or disable checkpoint (-1). E.g. 10 means that the cache will get checkpointed every 10 iterations. Note: this setting will be ignored if the checkpoint directory is not set in the SparkContext. (default: 10)\n",
      "coldStartStrategy: strategy for dealing with unknown or new users/items at prediction time. This may be useful in cross-validation or production scenarios, for handling user/item ids the model has not seen in the training data. Supported values: 'nan', 'drop'. (default: nan, current: drop)\n",
      "finalStorageLevel: StorageLevel for ALS model factors. (default: MEMORY_AND_DISK)\n",
      "implicitPrefs: whether to use implicit preference (default: False)\n",
      "intermediateStorageLevel: StorageLevel for intermediate datasets. Cannot be 'NONE'. (default: MEMORY_AND_DISK)\n",
      "itemCol: column name for item ids. Ids must be within the integer value range. (default: item, current: movieId)\n",
      "maxIter: max number of iterations (>= 0). (default: 10, current: 5)\n",
      "nonnegative: whether to use nonnegative constraint for least squares (default: False)\n",
      "numItemBlocks: number of item blocks (default: 10)\n",
      "numUserBlocks: number of user blocks (default: 10)\n",
      "predictionCol: prediction column name. (default: prediction)\n",
      "rank: rank of the factorization (default: 10, current: 10)\n",
      "ratingCol: column name for ratings (default: rating, current: rating)\n",
      "regParam: regularization parameter (>= 0). (default: 0.1, current: 0.01)\n",
      "seed: random seed. (default: 2669956859116361486)\n",
      "userCol: column name for user ids. Ids must be within the integer value range. (default: user, current: userId)\n"
     ]
    }
   ],
   "source": [
    "# 1st print a list of parameters\n",
    "print(als.explainParams())"
   ]
  },
  {
   "cell_type": "code",
   "execution_count": 27,
   "id": "955b57c1-943f-4bbb-ab58-93832f90a775",
   "metadata": {},
   "outputs": [],
   "source": [
    "#Tune model using ParamGridBuilder\n",
    "# it will take long time in the cv period, so just use few parameter to try \n",
    "\n",
    "paramGrid = (ParamGridBuilder()\n",
    "             .addGrid(als.regParam, [0.01])\n",
    "             .addGrid(als.rank, [10])\n",
    "             .addGrid(als.maxIter, [15])\n",
    "             .build())"
   ]
  },
  {
   "cell_type": "code",
   "execution_count": 28,
   "id": "8f366069-c161-46cc-8426-9dc6d20dd81a",
   "metadata": {},
   "outputs": [],
   "source": [
    "evaluator = RegressionEvaluator(metricName=\"rmse\", labelCol=\"rating\",\n",
    "                                predictionCol=\"prediction\")"
   ]
  },
  {
   "cell_type": "code",
   "execution_count": 29,
   "id": "ed8b2607-2b74-473e-a9b9-c142d16e0b66",
   "metadata": {},
   "outputs": [
    {
     "name": "stderr",
     "output_type": "stream",
     "text": [
      "                                                                                \r"
     ]
    }
   ],
   "source": [
    "from pyspark.ml.tuning import CrossValidator\n",
    "# Build Cross validation \n",
    "# Create 5-fold CrossValidator\n",
    "# it takes too long that I only use 2-fold\n",
    "cv = CrossValidator(estimator=als, estimatorParamMaps=paramGrid, evaluator=evaluator, numFolds=2)\n",
    "\n",
    "# Run cross validations\n",
    "cvModel = cv.fit(training)\n",
    "# this will likely take a fair amount of time because of the amount of models that we're creating and testing"
   ]
  },
  {
   "cell_type": "code",
   "execution_count": 30,
   "id": "181c36c7-d8b5-4a01-aea0-a8dbe234bff8",
   "metadata": {},
   "outputs": [],
   "source": [
    "# Extract the best model selected by CV\n",
    "best_model = cvModel.bestModel"
   ]
  },
  {
   "cell_type": "code",
   "execution_count": 31,
   "id": "94a2255a-cc60-4108-90af-4ed01db6debb",
   "metadata": {},
   "outputs": [
    {
     "name": "stdout",
     "output_type": "stream",
     "text": [
      "**Best Model**\n",
      "Rank:  ALSModel: uid=ALS_848ce27b0ed5, rank=10\n",
      " MaxIter:  15\n",
      " RegParam: ALS_848ce27b0ed5__regParam\n"
     ]
    }
   ],
   "source": [
    "#Fit ALS model to training data\n",
    "\n",
    "# specify parameter settings by the best model obtained via CV\n",
    "print (\"**Best Model**\")\n",
    "print (\"Rank: \", best_model)\n",
    "print (\" MaxIter: \", str(best_model._java_obj.parent().getMaxIter()))\n",
    "print (\" RegParam:\",  best_model._java_obj.parent().regParam())"
   ]
  },
  {
   "cell_type": "code",
   "execution_count": 32,
   "id": "58e629a4-5538-435e-9cdf-0415a0051e31",
   "metadata": {},
   "outputs": [
    {
     "name": "stderr",
     "output_type": "stream",
     "text": [
      "                                                                                \r"
     ]
    }
   ],
   "source": [
    "#Generate predictions and evaluate using RMSE\n",
    "predictions=best_model.transform(test)\n",
    "rmse = evaluator.evaluate(predictions)"
   ]
  },
  {
   "cell_type": "code",
   "execution_count": 33,
   "id": "85a46961-6255-4f79-82ee-334af1084456",
   "metadata": {},
   "outputs": [
    {
     "name": "stdout",
     "output_type": "stream",
     "text": [
      "RMSE = 1.1441373580558203\n"
     ]
    }
   ],
   "source": [
    "#Print RMSE \n",
    "print (\"RMSE = \"+str(rmse))"
   ]
  },
  {
   "cell_type": "code",
   "execution_count": 34,
   "id": "57a290cb-2ef1-43aa-bee8-faf323230e0d",
   "metadata": {},
   "outputs": [
    {
     "name": "stderr",
     "output_type": "stream",
     "text": [
      "                                                                                \r"
     ]
    }
   ],
   "source": [
    "#Extract best model from the tuning exercise using ParamGridBuilder\n",
    "\n",
    "als_best = ALS(maxIter=15, rank=10, regParam=0.01, userCol=\"userId\", itemCol=\"movieId\", ratingCol=\"rating\",\n",
    "          coldStartStrategy=\"drop\")\n",
    "model = als_best.fit(training)"
   ]
  },
  {
   "cell_type": "code",
   "execution_count": 35,
   "id": "9c1c37f5-9875-41f4-a13e-418072b19361",
   "metadata": {},
   "outputs": [
    {
     "name": "stderr",
     "output_type": "stream",
     "text": [
      "                                                                                \r"
     ]
    },
    {
     "name": "stdout",
     "output_type": "stream",
     "text": [
      "+------+-------+------+----------+\n",
      "|userId|movieId|rating|prediction|\n",
      "+------+-------+------+----------+\n",
      "|   580|   3175|   2.5|  3.825178|\n",
      "|   133|    471|   4.0| 3.3213995|\n",
      "|   593|   1580|   1.5| 2.4585454|\n",
      "|   597|    471|   2.0| 4.7426314|\n",
      "|   597|   2366|   5.0| 5.1023397|\n",
      "|   155|   1580|   4.0|  3.928725|\n",
      "|   101|   3175|   4.0| 3.3998475|\n",
      "|    28|   1645|   2.5| 2.5447369|\n",
      "|   183|   1580|   4.0| 3.9802399|\n",
      "|    27|   1580|   3.0| 3.4040718|\n",
      "+------+-------+------+----------+\n",
      "\n"
     ]
    }
   ],
   "source": [
    "#predictions.show(10)\n",
    "\n",
    "predictions.createOrReplaceTempView(\"predictions\")\n",
    "\n",
    "spark.sql(\"SELECT * FROM predictions limit 10\").show()"
   ]
  },
  {
   "cell_type": "code",
   "execution_count": 36,
   "id": "1c1f830b-ecb6-4527-b3cc-090893dae77c",
   "metadata": {},
   "outputs": [
    {
     "name": "stderr",
     "output_type": "stream",
     "text": [
      "                                                                                \r"
     ]
    },
    {
     "name": "stdout",
     "output_type": "stream",
     "text": [
      "RMSE = 0.6505448513959037\n"
     ]
    },
    {
     "name": "stderr",
     "output_type": "stream",
     "text": [
      "                                                                                \r"
     ]
    }
   ],
   "source": [
    "alldata=best_model.transform(movie_ratings)\n",
    "rmse = evaluator.evaluate(alldata)\n",
    "print (\"RMSE = \"+str(rmse))"
   ]
  },
  {
   "cell_type": "code",
   "execution_count": 37,
   "id": "4959de52-8849-4f47-8560-0897afd81bad",
   "metadata": {},
   "outputs": [
    {
     "name": "stderr",
     "output_type": "stream",
     "text": [
      "/opt/conda/envs/csgy-6513-fall/lib/python3.11/site-packages/pyspark/sql/dataframe.py:329: FutureWarning: Deprecated in 2.0, use createOrReplaceTempView instead.\n",
      "  warnings.warn(\"Deprecated in 2.0, use createOrReplaceTempView instead.\", FutureWarning)\n"
     ]
    }
   ],
   "source": [
    "alldata.registerTempTable(\"alldata\")"
   ]
  },
  {
   "cell_type": "code",
   "execution_count": 39,
   "id": "68a4d909-9555-434c-ada1-8d3cbea304c2",
   "metadata": {},
   "outputs": [
    {
     "name": "stderr",
     "output_type": "stream",
     "text": [
      "[Stage 752:====================================================> (98 + 2) / 100]\r"
     ]
    },
    {
     "name": "stdout",
     "output_type": "stream",
     "text": [
      "+------+--------------------+\n",
      "|userId|     recommendations|\n",
      "+------+--------------------+\n",
      "|     1|[{3477, 7.520809}...|\n",
      "|     2|[{70946, 6.803684...|\n",
      "|     3|[{1468, 10.056379...|\n",
      "|     4|[{130634, 8.13940...|\n",
      "|     5|[{86320, 7.906044...|\n",
      "|     6|[{179819, 6.92620...|\n",
      "|     7|[{2459, 11.814674...|\n",
      "|     8|[{4678, 10.667696...|\n",
      "|     9|[{6380, 8.14432},...|\n",
      "|    10|[{7318, 7.771312}...|\n",
      "+------+--------------------+\n",
      "\n"
     ]
    },
    {
     "name": "stderr",
     "output_type": "stream",
     "text": [
      "                                                                                \r"
     ]
    }
   ],
   "source": [
    "#recommend 10 movies for each users\n",
    "user_recs = best_model.recommendForAllUsers(10)\n",
    "#user_recs.show(10)\n",
    "\n",
    "user_recs.createOrReplaceTempView(\"user_recs\")\n",
    "\n",
    "spark.sql(\"SELECT * FROM user_recs limit 10\").show()"
   ]
  },
  {
   "cell_type": "code",
   "execution_count": null,
   "id": "b0e010d4-9e82-436c-b9fd-706069de0b5b",
   "metadata": {},
   "outputs": [],
   "source": []
  }
 ],
 "metadata": {
  "kernelspec": {
   "display_name": "Python [conda env:csgy-6513-fall]",
   "language": "python",
   "name": "conda-env-csgy-6513-fall-py"
  },
  "language_info": {
   "codemirror_mode": {
    "name": "ipython",
    "version": 3
   },
   "file_extension": ".py",
   "mimetype": "text/x-python",
   "name": "python",
   "nbconvert_exporter": "python",
   "pygments_lexer": "ipython3",
   "version": "3.11.10"
  }
 },
 "nbformat": 4,
 "nbformat_minor": 5
}
